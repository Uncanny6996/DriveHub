{
 "cells": [
  {
   "cell_type": "code",
   "execution_count": 27,
   "id": "485ca443",
   "metadata": {},
   "outputs": [],
   "source": [
    "import pandas as pd \n",
    "import seaborn as sns\n",
    "import matplotlib.pyplot as plt\n",
    "import numpy as np\n",
    "from sklearn.preprocessing import OneHotEncoder, StandardScaler, MinMaxScaler \n",
    "from sklearn.model_selection import GridSearchCV, train_test_split, KFold, cross_val_score\n",
    "from sklearn.linear_model import LinearRegression\n",
    "from sklearn.metrics import r2_score, mean_squared_error, accuracy_score, mean_absolute_error, mean_squared_error\n",
    "from sklearn.ensemble import GradientBoostingRegressor\n",
    "from sklearn.neural_network import MLPRegressor\n",
    "from sklearn.svm import SVR\n",
    "from sklearn.neighbors import KNeighborsRegressor\n",
    "from sklearn.cross_decomposition import PLSRegression\n",
    "from sklearn.tree import DecisionTreeRegressor\n",
    "import missingno as msno\n",
    "from sklearn.utils import shuffle \n",
    "from category_encoders import TargetEncoder, OneHotEncoder\n",
    "import warnings\n",
    "warnings.filterwarnings(\"ignore\")\n",
    "sns.set(rc = {'figure.figsize': (20, 20)})\n",
    "%matplotlib inline "
   ]
  },
  {
   "cell_type": "code",
   "execution_count": 29,
   "id": "26078f5b-a5e0-498e-91e9-effadfe87737",
   "metadata": {},
   "outputs": [
    {
     "name": "stdout",
     "output_type": "stream",
     "text": [
      "Requirement already satisfied: missingno in c:\\users\\prasa\\appdata\\local\\programs\\python\\python312\\lib\\site-packages (0.5.2)\n",
      "Requirement already satisfied: category_encoders in c:\\users\\prasa\\appdata\\local\\programs\\python\\python312\\lib\\site-packages (2.8.1)\n",
      "Requirement already satisfied: xgboost in c:\\users\\prasa\\appdata\\local\\programs\\python\\python312\\lib\\site-packages (3.0.1)\n",
      "Requirement already satisfied: numpy in c:\\users\\prasa\\appdata\\local\\programs\\python\\python312\\lib\\site-packages (from missingno) (2.2.5)\n",
      "Requirement already satisfied: matplotlib in c:\\users\\prasa\\appdata\\roaming\\python\\python312\\site-packages (from missingno) (3.10.3)\n",
      "Requirement already satisfied: scipy in c:\\users\\prasa\\appdata\\local\\programs\\python\\python312\\lib\\site-packages (from missingno) (1.15.3)\n",
      "Requirement already satisfied: seaborn in c:\\users\\prasa\\appdata\\local\\programs\\python\\python312\\lib\\site-packages (from missingno) (0.13.2)\n",
      "Requirement already satisfied: pandas>=1.0.5 in c:\\users\\prasa\\appdata\\local\\programs\\python\\python312\\lib\\site-packages (from category_encoders) (2.2.3)\n",
      "Requirement already satisfied: patsy>=0.5.1 in c:\\users\\prasa\\appdata\\local\\programs\\python\\python312\\lib\\site-packages (from category_encoders) (1.0.1)\n",
      "Requirement already satisfied: scikit-learn>=1.6.0 in c:\\users\\prasa\\appdata\\local\\programs\\python\\python312\\lib\\site-packages (from category_encoders) (1.6.1)\n",
      "Requirement already satisfied: statsmodels>=0.9.0 in c:\\users\\prasa\\appdata\\local\\programs\\python\\python312\\lib\\site-packages (from category_encoders) (0.14.4)\n",
      "Requirement already satisfied: python-dateutil>=2.8.2 in c:\\users\\prasa\\appdata\\roaming\\python\\python312\\site-packages (from pandas>=1.0.5->category_encoders) (2.9.0.post0)\n",
      "Requirement already satisfied: pytz>=2020.1 in c:\\users\\prasa\\appdata\\local\\programs\\python\\python312\\lib\\site-packages (from pandas>=1.0.5->category_encoders) (2025.2)\n",
      "Requirement already satisfied: tzdata>=2022.7 in c:\\users\\prasa\\appdata\\local\\programs\\python\\python312\\lib\\site-packages (from pandas>=1.0.5->category_encoders) (2025.2)\n",
      "Requirement already satisfied: six>=1.5 in c:\\users\\prasa\\appdata\\roaming\\python\\python312\\site-packages (from python-dateutil>=2.8.2->pandas>=1.0.5->category_encoders) (1.16.0)\n",
      "Requirement already satisfied: joblib>=1.2.0 in c:\\users\\prasa\\appdata\\local\\programs\\python\\python312\\lib\\site-packages (from scikit-learn>=1.6.0->category_encoders) (1.5.0)\n",
      "Requirement already satisfied: threadpoolctl>=3.1.0 in c:\\users\\prasa\\appdata\\local\\programs\\python\\python312\\lib\\site-packages (from scikit-learn>=1.6.0->category_encoders) (3.6.0)\n",
      "Requirement already satisfied: packaging>=21.3 in c:\\users\\prasa\\appdata\\roaming\\python\\python312\\site-packages (from statsmodels>=0.9.0->category_encoders) (24.1)\n",
      "Requirement already satisfied: contourpy>=1.0.1 in c:\\users\\prasa\\appdata\\roaming\\python\\python312\\site-packages (from matplotlib->missingno) (1.3.2)\n",
      "Requirement already satisfied: cycler>=0.10 in c:\\users\\prasa\\appdata\\roaming\\python\\python312\\site-packages (from matplotlib->missingno) (0.12.1)\n",
      "Requirement already satisfied: fonttools>=4.22.0 in c:\\users\\prasa\\appdata\\roaming\\python\\python312\\site-packages (from matplotlib->missingno) (4.58.0)\n",
      "Requirement already satisfied: kiwisolver>=1.3.1 in c:\\users\\prasa\\appdata\\roaming\\python\\python312\\site-packages (from matplotlib->missingno) (1.4.8)\n",
      "Requirement already satisfied: pillow>=8 in c:\\users\\prasa\\appdata\\local\\programs\\python\\python312\\lib\\site-packages (from matplotlib->missingno) (11.1.0)\n",
      "Requirement already satisfied: pyparsing>=2.3.1 in c:\\users\\prasa\\appdata\\local\\programs\\python\\python312\\lib\\site-packages (from matplotlib->missingno) (3.2.3)\n"
     ]
    }
   ],
   "source": [
    "!pip install missingno category_encoders xgboost\n"
   ]
  },
  {
   "cell_type": "code",
   "execution_count": 31,
   "id": "0cc7d3bb",
   "metadata": {},
   "outputs": [],
   "source": [
    "data = pd.read_csv(\"Data/data.csv\")  # Keep your working path\n"
   ]
  },
  {
   "cell_type": "code",
   "execution_count": 33,
   "id": "7560119c-7b81-4934-b03b-90fcd46ec82b",
   "metadata": {},
   "outputs": [
    {
     "data": {
      "text/plain": [
       "(11914, 16)"
      ]
     },
     "execution_count": 33,
     "metadata": {},
     "output_type": "execute_result"
    }
   ],
   "source": [
    "data.shape\n"
   ]
  },
  {
   "cell_type": "code",
   "execution_count": 35,
   "id": "10f1e04c",
   "metadata": {},
   "outputs": [
    {
     "data": {
      "text/plain": [
       "(11914, 16)"
      ]
     },
     "execution_count": 35,
     "metadata": {},
     "output_type": "execute_result"
    }
   ],
   "source": [
    "data.shape"
   ]
  },
  {
   "cell_type": "code",
   "execution_count": 37,
   "id": "cf2dee18",
   "metadata": {},
   "outputs": [
    {
     "data": {
      "text/html": [
       "<div>\n",
       "<style scoped>\n",
       "    .dataframe tbody tr th:only-of-type {\n",
       "        vertical-align: middle;\n",
       "    }\n",
       "\n",
       "    .dataframe tbody tr th {\n",
       "        vertical-align: top;\n",
       "    }\n",
       "\n",
       "    .dataframe thead th {\n",
       "        text-align: right;\n",
       "    }\n",
       "</style>\n",
       "<table border=\"1\" class=\"dataframe\">\n",
       "  <thead>\n",
       "    <tr style=\"text-align: right;\">\n",
       "      <th></th>\n",
       "      <th>Make</th>\n",
       "      <th>Model</th>\n",
       "      <th>Year</th>\n",
       "      <th>Engine Fuel Type</th>\n",
       "      <th>Engine HP</th>\n",
       "      <th>Engine Cylinders</th>\n",
       "      <th>Transmission Type</th>\n",
       "      <th>Driven_Wheels</th>\n",
       "      <th>Number of Doors</th>\n",
       "      <th>Market Category</th>\n",
       "      <th>Vehicle Size</th>\n",
       "      <th>Vehicle Style</th>\n",
       "      <th>highway MPG</th>\n",
       "      <th>city mpg</th>\n",
       "      <th>Popularity</th>\n",
       "      <th>MSRP</th>\n",
       "    </tr>\n",
       "  </thead>\n",
       "  <tbody>\n",
       "    <tr>\n",
       "      <th>0</th>\n",
       "      <td>BMW</td>\n",
       "      <td>1 Series M</td>\n",
       "      <td>2011</td>\n",
       "      <td>premium unleaded (required)</td>\n",
       "      <td>335.0</td>\n",
       "      <td>6.0</td>\n",
       "      <td>MANUAL</td>\n",
       "      <td>rear wheel drive</td>\n",
       "      <td>2.0</td>\n",
       "      <td>Factory Tuner,Luxury,High-Performance</td>\n",
       "      <td>Compact</td>\n",
       "      <td>Coupe</td>\n",
       "      <td>26</td>\n",
       "      <td>19</td>\n",
       "      <td>3916</td>\n",
       "      <td>46135</td>\n",
       "    </tr>\n",
       "    <tr>\n",
       "      <th>1</th>\n",
       "      <td>BMW</td>\n",
       "      <td>1 Series</td>\n",
       "      <td>2011</td>\n",
       "      <td>premium unleaded (required)</td>\n",
       "      <td>300.0</td>\n",
       "      <td>6.0</td>\n",
       "      <td>MANUAL</td>\n",
       "      <td>rear wheel drive</td>\n",
       "      <td>2.0</td>\n",
       "      <td>Luxury,Performance</td>\n",
       "      <td>Compact</td>\n",
       "      <td>Convertible</td>\n",
       "      <td>28</td>\n",
       "      <td>19</td>\n",
       "      <td>3916</td>\n",
       "      <td>40650</td>\n",
       "    </tr>\n",
       "    <tr>\n",
       "      <th>2</th>\n",
       "      <td>BMW</td>\n",
       "      <td>1 Series</td>\n",
       "      <td>2011</td>\n",
       "      <td>premium unleaded (required)</td>\n",
       "      <td>300.0</td>\n",
       "      <td>6.0</td>\n",
       "      <td>MANUAL</td>\n",
       "      <td>rear wheel drive</td>\n",
       "      <td>2.0</td>\n",
       "      <td>Luxury,High-Performance</td>\n",
       "      <td>Compact</td>\n",
       "      <td>Coupe</td>\n",
       "      <td>28</td>\n",
       "      <td>20</td>\n",
       "      <td>3916</td>\n",
       "      <td>36350</td>\n",
       "    </tr>\n",
       "    <tr>\n",
       "      <th>3</th>\n",
       "      <td>BMW</td>\n",
       "      <td>1 Series</td>\n",
       "      <td>2011</td>\n",
       "      <td>premium unleaded (required)</td>\n",
       "      <td>230.0</td>\n",
       "      <td>6.0</td>\n",
       "      <td>MANUAL</td>\n",
       "      <td>rear wheel drive</td>\n",
       "      <td>2.0</td>\n",
       "      <td>Luxury,Performance</td>\n",
       "      <td>Compact</td>\n",
       "      <td>Coupe</td>\n",
       "      <td>28</td>\n",
       "      <td>18</td>\n",
       "      <td>3916</td>\n",
       "      <td>29450</td>\n",
       "    </tr>\n",
       "    <tr>\n",
       "      <th>4</th>\n",
       "      <td>BMW</td>\n",
       "      <td>1 Series</td>\n",
       "      <td>2011</td>\n",
       "      <td>premium unleaded (required)</td>\n",
       "      <td>230.0</td>\n",
       "      <td>6.0</td>\n",
       "      <td>MANUAL</td>\n",
       "      <td>rear wheel drive</td>\n",
       "      <td>2.0</td>\n",
       "      <td>Luxury</td>\n",
       "      <td>Compact</td>\n",
       "      <td>Convertible</td>\n",
       "      <td>28</td>\n",
       "      <td>18</td>\n",
       "      <td>3916</td>\n",
       "      <td>34500</td>\n",
       "    </tr>\n",
       "  </tbody>\n",
       "</table>\n",
       "</div>"
      ],
      "text/plain": [
       "  Make       Model  Year             Engine Fuel Type  Engine HP  \\\n",
       "0  BMW  1 Series M  2011  premium unleaded (required)      335.0   \n",
       "1  BMW    1 Series  2011  premium unleaded (required)      300.0   \n",
       "2  BMW    1 Series  2011  premium unleaded (required)      300.0   \n",
       "3  BMW    1 Series  2011  premium unleaded (required)      230.0   \n",
       "4  BMW    1 Series  2011  premium unleaded (required)      230.0   \n",
       "\n",
       "   Engine Cylinders Transmission Type     Driven_Wheels  Number of Doors  \\\n",
       "0               6.0            MANUAL  rear wheel drive              2.0   \n",
       "1               6.0            MANUAL  rear wheel drive              2.0   \n",
       "2               6.0            MANUAL  rear wheel drive              2.0   \n",
       "3               6.0            MANUAL  rear wheel drive              2.0   \n",
       "4               6.0            MANUAL  rear wheel drive              2.0   \n",
       "\n",
       "                         Market Category Vehicle Size Vehicle Style  \\\n",
       "0  Factory Tuner,Luxury,High-Performance      Compact         Coupe   \n",
       "1                     Luxury,Performance      Compact   Convertible   \n",
       "2                Luxury,High-Performance      Compact         Coupe   \n",
       "3                     Luxury,Performance      Compact         Coupe   \n",
       "4                                 Luxury      Compact   Convertible   \n",
       "\n",
       "   highway MPG  city mpg  Popularity   MSRP  \n",
       "0           26        19        3916  46135  \n",
       "1           28        19        3916  40650  \n",
       "2           28        20        3916  36350  \n",
       "3           28        18        3916  29450  \n",
       "4           28        18        3916  34500  "
      ]
     },
     "execution_count": 37,
     "metadata": {},
     "output_type": "execute_result"
    }
   ],
   "source": [
    "data.head()"
   ]
  },
  {
   "cell_type": "code",
   "execution_count": 39,
   "id": "f26d7d9f",
   "metadata": {},
   "outputs": [
    {
     "data": {
      "image/png": "[encoded data removed]",
      "text/plain": [
       "<Figure size 2000x1500 with 1 Axes>"
      ]
     },
     "metadata": {},
     "output_type": "display_data"
    }
   ],
   "source": [
    "plt.figure(figsize = (20, 15))\n",
    "sns.countplot(y = data.Make)\n",
    "plt.title(\"Car companies with their cars\", fontsize = 20)\n",
    "plt.show()"
   ]
  },
  {
   "cell_type": "code",
   "execution_count": null,
   "id": "515193ad",
   "metadata": {},
   "outputs": [],
   "source": [
    "plt.figure(figsize = (20, 15))\n",
    "sns.countplot(data.Year, palette = 'viridis')\n",
    "plt.title(\"Number of cars in different years\", fontsize = 20)\n",
    "plt.show()"
   ]
  },
  {
   "cell_type": "code",
   "execution_count": null,
   "id": "f5388c16",
   "metadata": {},
   "outputs": [],
   "source": [
    "plt.figure(figsize = (10, 10))\n",
    "sns.countplot(data['Transmission Type'], palette = 'Paired')\n",
    "plt.title(\"Transmission Type\", fontsize = 20)\n",
    "plt.show()"
   ]
  },
  {
   "cell_type": "code",
   "execution_count": null,
   "id": "1cdca857",
   "metadata": {},
   "outputs": [],
   "source": [
    "data.nunique()"
   ]
  },
  {
   "cell_type": "code",
   "execution_count": null,
   "id": "5c15b231",
   "metadata": {},
   "outputs": [],
   "source": [
    "data.head()"
   ]
  },
  {
   "cell_type": "code",
   "execution_count": null,
   "id": "33934bbd",
   "metadata": {},
   "outputs": [],
   "source": [
    "plt.figure(figsize = (15, 10))\n",
    "sns.countplot(y = data['Engine Fuel Type'].sort_values(ascending = False), palette = 'Dark2')"
   ]
  },
  {
   "cell_type": "code",
   "execution_count": null,
   "id": "81a04c64",
   "metadata": {},
   "outputs": [],
   "source": [
    "plt.figure(figsize = (10, 10))\n",
    "sns.countplot(x = 'Vehicle Size', data = data, palette = 'Set1')"
   ]
  },
  {
   "cell_type": "code",
   "execution_count": null,
   "id": "781d0033",
   "metadata": {},
   "outputs": [],
   "source": [
    "msno.matrix(data, color = (0.5, 0.5, 0.5))"
   ]
  },
  {
   "cell_type": "code",
   "execution_count": null,
   "id": "fbe67c73",
   "metadata": {},
   "outputs": [],
   "source": [
    "data.groupby('Make')[['Engine HP', 'Engine Cylinders', 'highway MPG', 'city mpg']].agg(['min', 'max', 'mean'])"
   ]
  },
  {
   "cell_type": "code",
   "execution_count": null,
   "id": "a64b5074",
   "metadata": {},
   "outputs": [],
   "source": [
    "plt.figure(figsize = (20, 10))\n",
    "data.groupby('Year')['MSRP'].mean().plot(kind = 'bar', color = 'g')\n",
    "plt.title(\"The Average Price of cars in different years\", fontsize = 20)\n",
    "plt.show()\n"
   ]
  },
  {
   "cell_type": "code",
   "execution_count": null,
   "id": "e6f1d5a5",
   "metadata": {},
   "outputs": [],
   "source": [
    "plt.figure(figsize = (10, 10))\n",
    "data.groupby('Transmission Type')['MSRP'].mean().plot(kind = 'bar', color = 'y')\n",
    "plt.title(\"The Average Price of cars in different tranmission types\", fontsize = 20)\n",
    "plt.show()\n"
   ]
  },
  {
   "cell_type": "code",
   "execution_count": null,
   "id": "92f9116d",
   "metadata": {},
   "outputs": [],
   "source": [
    "# Group by 'Make' and calculate the average MSRP only\n",
    "avg_price_by_make = data.groupby('Make')['MSRP'].mean().sort_values(ascending=False)\n",
    "\n",
    "# Plot it\n",
    "plt.figure(figsize=(20, 15))\n",
    "avg_price_by_make.plot(kind='bar', fontsize=12, color='black')\n",
    "plt.title(\"Average MSRP by Car Brand\", fontsize=20)\n",
    "plt.ylabel(\"Price ($)\")\n",
    "plt.show()\n",
    "\n"
   ]
  },
  {
   "cell_type": "code",
   "execution_count": null,
   "id": "254ced53",
   "metadata": {},
   "outputs": [],
   "source": [
    "# Group by 'Make' and calculate the median of 'Engine HP' only\n",
    "median_hp_by_make = data.groupby('Make')['Engine HP'].median().sort_values()\n",
    "\n",
    "# Plot the result\n",
    "plt.figure(figsize=(20, 20))\n",
    "median_hp_by_make.plot(kind='barh', fontsize=12, color='brown')\n",
    "\n",
    "# Add title and labels\n",
    "plt.title(\"Median Engine HP by Car Brand\", fontsize=20)\n",
    "plt.xlabel(\"Median Engine Horsepower\")\n",
    "plt.ylabel(\"Car Make\")\n",
    "plt.grid(True)\n",
    "\n",
    "# Show the plot\n",
    "plt.show()"
   ]
  },
  {
   "cell_type": "code",
   "execution_count": null,
   "id": "79d536dc",
   "metadata": {},
   "outputs": [],
   "source": [
    "# Group only by 'Driven_Wheels' and compute the average MSRP column safely\n",
    "avg_price_by_drive = data.groupby('Driven_Wheels')['MSRP'].mean().sort_values()\n",
    "\n",
    "# Plot the average price based on driven wheels\n",
    "plt.figure(figsize=(15, 5))\n",
    "avg_price_by_drive.plot(kind='barh', color='olivedrab')\n",
    "plt.title(\"Average Car Price Based on Driven Wheels\", fontsize=20)\n",
    "plt.xlabel(\"Average MSRP ($)\")\n",
    "plt.ylabel(\"Driven Wheels Type\")\n",
    "plt.grid(True)\n",
    "plt.show()\n"
   ]
  },
  {
   "cell_type": "code",
   "execution_count": null,
   "id": "c679f28c",
   "metadata": {},
   "outputs": [],
   "source": [
    "# Group by 'Make' and calculate the average Popularity only\n",
    "popularity_by_make = data.groupby('Make')['Popularity'].mean().sort_values(ascending=True)\n",
    "\n",
    "# Plot the average popularity of each brand\n",
    "plt.figure(figsize=(15, 15))\n",
    "popularity_by_make.plot(kind='barh', color='orange')\n",
    "\n",
    "# Add styling\n",
    "plt.title(\"Popularity of Various Car Brands\", fontsize=15)\n",
    "plt.xlabel(\"Average Popularity\")\n",
    "plt.ylabel(\"Car Make\")\n",
    "plt.yticks(fontsize=10)\n",
    "plt.grid(True)\n",
    "plt.show()\n"
   ]
  },
  {
   "cell_type": "code",
   "execution_count": null,
   "id": "d1b67df8",
   "metadata": {},
   "outputs": [],
   "source": [
    "sns.scatterplot(x = 'highway MPG', y = 'city mpg', data = data, color = 'r')\n",
    "plt.title(\"Scatterplot between highway MPG and city mpg\")\n",
    "plt.show()"
   ]
  },
  {
   "cell_type": "code",
   "execution_count": null,
   "id": "9c6a6600",
   "metadata": {},
   "outputs": [],
   "source": [
    "data[data['highway MPG'] > 350]"
   ]
  },
  {
   "cell_type": "code",
   "execution_count": null,
   "id": "251a9bba",
   "metadata": {},
   "outputs": [],
   "source": [
    "data = data[data['highway MPG'] < 350]"
   ]
  },
  {
   "cell_type": "code",
   "execution_count": null,
   "id": "48a664fc",
   "metadata": {},
   "outputs": [],
   "source": [
    "sns.scatterplot(x = 'highway MPG', y ='city mpg', data = data, color = 'salmon')\n",
    "plt.title(\"Scatterplot between highway MPG and city mpg\")\n",
    "plt.show()"
   ]
  },
  {
   "cell_type": "code",
   "execution_count": null,
   "id": "8f3902bd",
   "metadata": {},
   "outputs": [],
   "source": [
    "data['Market Category'].unique()"
   ]
  },
  {
   "cell_type": "code",
   "execution_count": null,
   "id": "e0d7f4b9",
   "metadata": {},
   "outputs": [],
   "source": [
    "sns.boxplot(x = 'highway MPG', data = data, color = 'red')"
   ]
  },
  {
   "cell_type": "code",
   "execution_count": null,
   "id": "0c644e07",
   "metadata": {},
   "outputs": [],
   "source": [
    "for i in range(90, 100):\n",
    "    print(\"The {:.1f}th percentile value is {:.2f}\".format(i, np.percentile(data['highway MPG'], i)))"
   ]
  },
  {
   "cell_type": "code",
   "execution_count": null,
   "id": "b183d3ff",
   "metadata": {},
   "outputs": [],
   "source": [
    "for i in [x * 0.1 for x in range(990, 1000)]:\n",
    "    print(\"The {:.1f}th percentile value is {:.2f}\".format(i, np.percentile(data['highway MPG'], i)))"
   ]
  },
  {
   "cell_type": "code",
   "execution_count": null,
   "id": "02e1d125",
   "metadata": {},
   "outputs": [],
   "source": [
    "data = data[data['highway MPG'] < 60]"
   ]
  },
  {
   "cell_type": "code",
   "execution_count": null,
   "id": "f2ed49b0",
   "metadata": {},
   "outputs": [],
   "source": [
    "sns.boxplot(x = 'highway MPG', data = data, color = 'skyblue')"
   ]
  },
  {
   "cell_type": "code",
   "execution_count": null,
   "id": "7392b6af",
   "metadata": {},
   "outputs": [],
   "source": [
    "sns.boxplot(x = 'city mpg', data = data)"
   ]
  },
  {
   "cell_type": "code",
   "execution_count": null,
   "id": "049a25e2",
   "metadata": {},
   "outputs": [],
   "source": [
    "for i in range(90, 100):\n",
    "    print(\"The {:.1f}th percentile value is {:.2f}\".format(i, np.percentile(data['city mpg'], i)))"
   ]
  },
  {
   "cell_type": "code",
   "execution_count": null,
   "id": "370a6871",
   "metadata": {},
   "outputs": [],
   "source": [
    "for i in [x * 0.1 for x in range(990, 1000)]:\n",
    "    print(\"The {:.1f}th percentile value is {:.2f}\".format(i, np.percentile(data['city mpg'], i)))"
   ]
  },
  {
   "cell_type": "code",
   "execution_count": null,
   "id": "6a101088",
   "metadata": {},
   "outputs": [],
   "source": [
    "data = data[data['city mpg'] < 40]"
   ]
  },
  {
   "cell_type": "code",
   "execution_count": null,
   "id": "1dcfa54b",
   "metadata": {},
   "outputs": [],
   "source": [
    "sns.boxplot(x = 'city mpg', data= data, color = 'darkgreen')"
   ]
  },
  {
   "cell_type": "code",
   "execution_count": null,
   "id": "86b44b03",
   "metadata": {},
   "outputs": [],
   "source": [
    "plt.figure(figsize = (20, 10))\n",
    "sns.boxplot(data = data[['city mpg', 'highway MPG']], palette = 'Accent')\n",
    "plt.title(\"Boxplot of city mpg and highway MPG\", fontsize = 15)\n",
    "plt.show()"
   ]
  },
  {
   "cell_type": "code",
   "execution_count": null,
   "id": "116223bf",
   "metadata": {},
   "outputs": [],
   "source": [
    "plt.figure(figsize = (20, 10))\n",
    "sns.boxplot(data['Engine HP'])"
   ]
  },
  {
   "cell_type": "code",
   "execution_count": null,
   "id": "4ef4b4a9",
   "metadata": {},
   "outputs": [],
   "source": [
    "sns.set(rc = {'figure.figsize': (20, 20)})\n",
    "sns.lmplot(x = 'Engine HP', y = 'Popularity', data = data)"
   ]
  },
  {
   "cell_type": "code",
   "execution_count": null,
   "id": "c5c21245",
   "metadata": {},
   "outputs": [],
   "source": [
    "sns.lmplot(x = 'Engine Cylinders', y = 'Popularity', data = data)\n",
    "plt.title(\"Engine Cylinders vs Popularity\", fontsize = 15)\n",
    "plt.show()"
   ]
  },
  {
   "cell_type": "code",
   "execution_count": null,
   "id": "6388652f",
   "metadata": {},
   "outputs": [],
   "source": [
    "sns.lmplot(x = 'Number of Doors', y = 'Popularity', data = data)\n",
    "plt.title(\"Number of doors vs Popularity\", fontsize = 15)\n",
    "plt.show()"
   ]
  },
  {
   "cell_type": "code",
   "execution_count": null,
   "id": "e1ebe8ee",
   "metadata": {},
   "outputs": [],
   "source": [
    "sns.lmplot(x = 'Engine Cylinders', y = 'Engine HP', scatter_kws = {\"s\": 40, \"alpha\": 0.2}, data = data)\n",
    "plt.title(\"Engine Cylinders vs Engine HP\", fontsize = 15)\n",
    "plt.show()"
   ]
  },
  {
   "cell_type": "code",
   "execution_count": null,
   "id": "cf0d53b4",
   "metadata": {},
   "outputs": [],
   "source": [
    "sns.lmplot(x = 'city mpg', y = 'highway MPG', data = data)\n",
    "plt.title(\"city mpg vs highway MPG\", fontsize = 15)\n",
    "plt.show()"
   ]
  },
  {
   "cell_type": "code",
   "execution_count": null,
   "id": "f774c5d1",
   "metadata": {},
   "outputs": [],
   "source": [
    "sns.lmplot(x = 'city mpg', y = 'Engine Cylinders', data = data)\n",
    "plt.title(\"city mpg vs Engine Cylinders\", fontsize = 15)\n",
    "plt.show()"
   ]
  },
  {
   "cell_type": "code",
   "execution_count": null,
   "id": "66d365ac",
   "metadata": {},
   "outputs": [],
   "source": [
    "plt.figure(figsize = (15, 15))\n",
    "numeric_columns = ['Engine HP', 'Engine Cylinders', 'Number of Doors', 'highway MPG', 'city mpg', 'Popularity']\n",
    "heatmap_data = data[numeric_columns].corr()\n",
    "\n",
    "sns.heatmap(heatmap_data, cmap = 'BuPu', annot = True)"
   ]
  },
  {
   "cell_type": "code",
   "execution_count": null,
   "id": "528355f8",
   "metadata": {},
   "outputs": [],
   "source": [
    "# Group by 'Year' and calculate only the mean of 'highway MPG'\n",
    "avg_highway_mpg_by_year = data.groupby('Year')['highway MPG'].mean().sort_values(ascending=False)\n",
    "\n",
    "# Plot the result\n",
    "plt.figure(figsize=(20, 10))\n",
    "avg_highway_mpg_by_year.plot(kind='bar', color='darkseagreen')\n",
    "\n",
    "# Add plot title and labels\n",
    "plt.title(\"Average Highway MPG by Year\", fontsize=15)\n",
    "plt.xlabel(\"Year\")\n",
    "plt.ylabel(\"Average Highway MPG\")\n",
    "plt.grid(True)\n",
    "plt.show()\n"
   ]
  },
  {
   "cell_type": "code",
   "execution_count": null,
   "id": "0950133d",
   "metadata": {},
   "outputs": [],
   "source": [
    "data.isnull().sum()"
   ]
  },
  {
   "cell_type": "code",
   "execution_count": null,
   "id": "947a3df0",
   "metadata": {},
   "outputs": [],
   "source": [
    "data['Number of Doors'].median()"
   ]
  },
  {
   "cell_type": "code",
   "execution_count": null,
   "id": "740d8d9d",
   "metadata": {},
   "outputs": [],
   "source": [
    "data['Number of Doors'].fillna(4.0, inplace = True)"
   ]
  },
  {
   "cell_type": "code",
   "execution_count": null,
   "id": "1e13493a",
   "metadata": {},
   "outputs": [],
   "source": [
    "data['Number of Doors'].isnull().sum()"
   ]
  },
  {
   "cell_type": "code",
   "execution_count": null,
   "id": "791a5bfd",
   "metadata": {},
   "outputs": [],
   "source": [
    "data['Present Year'] = 2021"
   ]
  },
  {
   "cell_type": "code",
   "execution_count": null,
   "id": "b11c9dad",
   "metadata": {},
   "outputs": [],
   "source": [
    "data.head()"
   ]
  },
  {
   "cell_type": "code",
   "execution_count": null,
   "id": "5835c106",
   "metadata": {},
   "outputs": [],
   "source": [
    "from sklearn.model_selection import train_test_split\n",
    "\n",
    "# Select the features to use for prediction\n",
    "features = ['Year', 'Engine HP', 'Engine Cylinders', 'Transmission Type',\n",
    "            'Driven_Wheels', 'Vehicle Size', 'Vehicle Style', 'city mpg', 'highway MPG']\n",
    "target = 'MSRP'\n",
    "\n",
    "# Drop rows with missing values in required columns\n",
    "model_data = data[features + [target]].dropna()\n",
    "\n",
    "# Define X and y\n",
    "X = model_data[features]\n",
    "y = model_data[target]\n",
    "\n",
    "# One-hot encode categorical features\n",
    "X = pd.get_dummies(X)\n",
    "\n",
    "# Align X and y (just in case)\n",
    "X, y = X.align(y, join='inner', axis=0)\n",
    "\n",
    "# Train-test split\n",
    "X_train, X_test, y_train, y_test = train_test_split(X, y, test_size=0.2, random_state=42)\n",
    "\n",
    "# Display first few rows of training data\n",
    "X_train.head()\n"
   ]
  },
  {
   "cell_type": "code",
   "execution_count": null,
   "id": "07366b47",
   "metadata": {},
   "outputs": [],
   "source": [
    "from category_encoders import TargetEncoder\n",
    "from sklearn.model_selection import train_test_split\n",
    "\n",
    "# Features including 'Make' for encoding\n",
    "features = ['Make', 'Year', 'Engine HP', 'Engine Cylinders', 'Transmission Type',\n",
    "            'Driven_Wheels', 'Vehicle Size', 'Vehicle Style', 'city mpg', 'highway MPG']\n",
    "target = 'MSRP'\n",
    "\n",
    "# Drop rows with missing values in required columns\n",
    "model_data = data[features + [target]].dropna()\n",
    "\n",
    "# Split data\n",
    "X = model_data[features].copy()\n",
    "y = model_data[target].copy()\n",
    "\n",
    "# Apply Target Encoding to 'Make'\n",
    "encoder = TargetEncoder(cols=['Make'])\n",
    "X['Make'] = encoder.fit_transform(X['Make'], y)\n",
    "\n",
    "# One-hot encode the rest of categorical columns\n",
    "X = pd.get_dummies(X, columns=['Transmission Type', 'Driven_Wheels', 'Vehicle Size', 'Vehicle Style'])\n",
    "\n",
    "# Train-test split\n",
    "X_train, X_test, y_train, y_test = train_test_split(X, y, test_size=0.2, random_state=42)\n",
    "\n",
    "# Show encoded training data\n",
    "X_train.head()\n"
   ]
  },
  {
   "cell_type": "code",
   "execution_count": null,
   "id": "b6ef52eb",
   "metadata": {
    "scrolled": true
   },
   "outputs": [],
   "source": [
    "from sklearn.model_selection import train_test_split\n",
    "\n",
    "# Define features including 'Engine Fuel Type'\n",
    "features = ['Engine Fuel Type', 'Year', 'Engine HP', 'Engine Cylinders', \n",
    "            'Transmission Type', 'Driven_Wheels', 'Vehicle Size', \n",
    "            'Vehicle Style', 'city mpg', 'highway MPG']\n",
    "target = 'MSRP'\n",
    "\n",
    "# Remove missing data\n",
    "model_data = data[features + [target]].dropna()\n",
    "\n",
    "# Split into features (X) and target (y)\n",
    "X = model_data[features].copy()\n",
    "y = model_data[target].copy()\n",
    "\n",
    "# Train-test split\n",
    "X_train, X_test, y_train, y_test = train_test_split(X, y, test_size=0.2, random_state=42)\n",
    "\n",
    "# Check unique values in 'Engine Fuel Type'\n",
    "X_train[\"Engine Fuel Type\"].unique()\n"
   ]
  },
  {
   "cell_type": "code",
   "execution_count": null,
   "id": "3228339c",
   "metadata": {},
   "outputs": [],
   "source": [
    "from sklearn.model_selection import train_test_split\n",
    "\n",
    "# Define the features and target\n",
    "features = ['Engine Fuel Type', 'Year', 'Engine HP', 'Engine Cylinders',\n",
    "            'Transmission Type', 'Driven_Wheels', 'Vehicle Size', \n",
    "            'Vehicle Style', 'city mpg', 'highway MPG']\n",
    "target = 'MSRP'\n",
    "\n",
    "# Drop rows with missing values\n",
    "model_data = data[features + [target]].dropna()\n",
    "\n",
    "# Separate features and target\n",
    "X = model_data[features].copy()\n",
    "y = model_data[target].copy()\n",
    "\n",
    "# One-hot encode the categorical features\n",
    "X = pd.get_dummies(X, columns=['Engine Fuel Type', 'Transmission Type', 'Driven_Wheels', \n",
    "                               'Vehicle Size', 'Vehicle Style'])\n",
    "\n",
    "# Train-test split\n",
    "X_train, X_test, y_train, y_test = train_test_split(X, y, test_size=0.2, random_state=42)\n",
    "\n",
    "# Show first few rows of X_train\n",
    "X_train.head()\n"
   ]
  },
  {
   "cell_type": "code",
   "execution_count": null,
   "id": "505890b8",
   "metadata": {},
   "outputs": [],
   "source": [
    "# Replace Cell 56 with:\n",
    "features = ['Engine Fuel Type', 'Transmission Type', 'Driven_Wheels', \n",
    "            'Vehicle Size', 'Vehicle Style', 'Year', 'Engine HP', \n",
    "            'Engine Cylinders', 'city mpg', 'highway MPG']\n",
    "target = 'MSRP'\n",
    "\n",
    "model_data = data[features + [target]].dropna()\n",
    "X = model_data[features]\n",
    "y = np.log1p(model_data[target])  # Log-transform the target!"
   ]
  },
  {
   "cell_type": "code",
   "execution_count": null,
   "id": "45d50681",
   "metadata": {},
   "outputs": [],
   "source": [
    "import pandas as pd\n",
    "from sklearn.model_selection import train_test_split\n",
    "from sklearn.preprocessing import OneHotEncoder\n",
    "\n",
    "# Define features and target\n",
    "features = ['Engine Fuel Type', 'Transmission Type', 'Driven_Wheels', \n",
    "            'Vehicle Size', 'Vehicle Style', 'Year', 'Engine HP', \n",
    "            'Engine Cylinders', 'city mpg', 'highway MPG']\n",
    "target = 'MSRP'\n",
    "\n",
    "# Clean data\n",
    "model_data = data[features + [target]].dropna()\n",
    "X = model_data[features].copy()\n",
    "y = model_data[target].copy()\n",
    "\n",
    "# Split before encoding\n",
    "X_train_raw, X_test_raw, y_train, y_test = train_test_split(X, y, test_size=0.2, random_state=42)\n",
    "\n",
    "# Identify columns\n",
    "categorical_cols = ['Engine Fuel Type', 'Transmission Type', 'Driven_Wheels', 'Vehicle Size', 'Vehicle Style']\n",
    "numerical_cols = ['Year', 'Engine HP', 'Engine Cylinders', 'city mpg', 'highway MPG']\n",
    "\n",
    "# OneHotEncoder\n",
    "encoder = OneHotEncoder(handle_unknown='ignore', sparse_output=False)\n",
    "encoder.fit(X_train_raw[categorical_cols])\n",
    "\n",
    "one_hot_encoded_output_train = pd.DataFrame(\n",
    "    encoder.transform(X_train_raw[categorical_cols]),\n",
    "    columns=encoder.get_feature_names_out(categorical_cols),\n",
    "    index=X_train_raw.index\n",
    ")\n",
    "\n",
    "one_hot_encoded_output_test = pd.DataFrame(\n",
    "    encoder.transform(X_test_raw[categorical_cols]),\n",
    "    columns=encoder.get_feature_names_out(categorical_cols),\n",
    "    index=X_test_raw.index\n",
    ")\n",
    "\n",
    "# Combine numeric and encoded features\n",
    "X_train = pd.concat([X_train_raw[numerical_cols].reset_index(drop=True), \n",
    "                     one_hot_encoded_output_train.reset_index(drop=True)], axis=1)\n",
    "\n",
    "X_test = pd.concat([X_test_raw[numerical_cols].reset_index(drop=True), \n",
    "                    one_hot_encoded_output_test.reset_index(drop=True)], axis=1)\n",
    "\n",
    "# Show result\n",
    "X_train.head()\n"
   ]
  },
  {
   "cell_type": "code",
   "execution_count": null,
   "id": "e760f407",
   "metadata": {},
   "outputs": [],
   "source": [
    "# Drop original categorical columns from raw data if still present\n",
    "for col in ['Engine Fuel Type', 'Transmission Type', 'Driven_Wheels', 'Vehicle Size', 'Vehicle Style']:\n",
    "    if col in X_train.columns:\n",
    "        X_train.drop(col, axis=1, inplace=True)\n",
    "    if col in X_test.columns:\n",
    "        X_test.drop(col, axis=1, inplace=True)\n"
   ]
  },
  {
   "cell_type": "code",
   "execution_count": null,
   "id": "b302ccb6",
   "metadata": {},
   "outputs": [],
   "source": [
    "X_train.info()"
   ]
  },
  {
   "cell_type": "code",
   "execution_count": null,
   "id": "82cd50b6",
   "metadata": {},
   "outputs": [],
   "source": [
    "scaler = MinMaxScaler()\n",
    "scaler.fit(X_train)\n",
    "X_train_new = scaler.transform(X_train)\n",
    "X_test_new = scaler.transform(X_test)"
   ]
  },
  {
   "cell_type": "code",
   "execution_count": null,
   "id": "4ac99261",
   "metadata": {},
   "outputs": [],
   "source": [
    "X_train_new.shape"
   ]
  },
  {
   "cell_type": "code",
   "execution_count": null,
   "id": "9fe8af14",
   "metadata": {},
   "outputs": [],
   "source": [
    "error_mean_square = []\n",
    "error_mean_absolute = []"
   ]
  },
  {
   "cell_type": "code",
   "execution_count": null,
   "id": "d7d04d45",
   "metadata": {},
   "outputs": [],
   "source": [
    "model = LinearRegression()\n",
    "model.fit(X_train_new, y_train)"
   ]
  },
  {
   "cell_type": "code",
   "execution_count": null,
   "id": "44548711",
   "metadata": {},
   "outputs": [],
   "source": [
    "y_predict = model.predict(X_test_new)"
   ]
  },
  {
   "cell_type": "code",
   "execution_count": null,
   "id": "d523b26d",
   "metadata": {},
   "outputs": [],
   "source": [
    "error_mean_square.append(int(mean_squared_error(y_predict, y_test)))\n",
    "error_mean_absolute.append(int(mean_absolute_error(y_predict, y_test)))"
   ]
  },
  {
   "cell_type": "code",
   "execution_count": null,
   "id": "9de9ccd2",
   "metadata": {},
   "outputs": [],
   "source": [
    "error_mean_absolute"
   ]
  },
  {
   "cell_type": "code",
   "execution_count": null,
   "id": "f1fec562",
   "metadata": {},
   "outputs": [],
   "source": [
    "y_predict = pd.DataFrame(y_predict, columns = ['Predicted Output'])"
   ]
  },
  {
   "cell_type": "code",
   "execution_count": null,
   "id": "1897ebc8",
   "metadata": {},
   "outputs": [],
   "source": [
    "y_predict.head()"
   ]
  },
  {
   "cell_type": "code",
   "execution_count": null,
   "id": "2edeadff",
   "metadata": {},
   "outputs": [],
   "source": [
    "y_test.to_frame().head()"
   ]
  },
  {
   "cell_type": "code",
   "execution_count": null,
   "id": "5225631e",
   "metadata": {},
   "outputs": [],
   "source": [
    "results = pd.concat([y_predict, y_test.to_frame().reset_index(drop = True)], axis = 1, ignore_index = False)"
   ]
  },
  {
   "cell_type": "code",
   "execution_count": null,
   "id": "3582e843",
   "metadata": {},
   "outputs": [],
   "source": [
    "results.head()"
   ]
  },
  {
   "cell_type": "code",
   "execution_count": null,
   "id": "45069c89-60ad-4a6c-8537-d6cc8c0c6865",
   "metadata": {},
   "outputs": [],
   "source": [
    "\n",
    "# Log-transform target\n",
    "y_train_log = np.log1p(y_train)\n",
    "y_test_log = np.log1p(y_test)\n",
    "\n",
    "# Train the model\n",
    "model = LinearRegression()\n",
    "model.fit(X_train, y_train_log)\n",
    "\n",
    "# Predict in log scale, then reverse\n",
    "y_pred_log = model.predict(X_test)\n",
    "y_pred = np.expm1(y_pred_log)\n",
    "y_test_real = np.expm1(y_test_log)\n",
    "\n",
    "# Evaluate\n",
    "from sklearn.metrics import mean_absolute_error, r2_score\n",
    "mae = mean_absolute_error(y_test_real, y_pred)\n",
    "r2 = r2_score(y_test_real, y_pred)\n",
    "\n",
    "print(\"✅ Log-Transformed Model Evaluation:\")\n",
    "print(f\"Mean Absolute Error (MAE): ${mae:,.2f}\")\n",
    "print(f\"R² Score: {r2:.3f}\")\n",
    "\n",
    "\n"
   ]
  },
  {
   "cell_type": "code",
   "execution_count": null,
   "id": "3347e5da-8057-4898-a719-9bf5f4cce6cc",
   "metadata": {},
   "outputs": [],
   "source": [
    "import joblib\n",
    "\n",
    "model_path = r\"D:\\CarDealerWeb-Django\\CarDealerWeb-Django\\ml\\car_price_model.pkl\"\n",
    "encoder_path = r\"D:\\CarDealerWeb-Django\\CarDealerWeb-Django\\ml\\car_encoder.pkl\"\n",
    "\n",
    "model = joblib.load(model_path)\n",
    "encoder = joblib.load(encoder_path)\n",
    "\n",
    "# Now save again with compression\n",
    "joblib.dump(model, model_path, compress=3)\n",
    "print(\"✅ Model saved as car_price_model.pkl with compression\")\n",
    "\n",
    "joblib.dump(encoder, encoder_path, compress=3)\n",
    "print(\"✅ Encoder saved as car_encoder.pkl with compression\")\n",
    "\n"
   ]
  },
  {
   "cell_type": "code",
   "execution_count": null,
   "id": "0eb23092-2686-4292-bc0e-20673ac99720",
   "metadata": {},
   "outputs": [],
   "source": [
    "import joblib\n",
    "\n",
    "model_path = r\"D:\\CarDealerWeb-Django\\CarDealerWeb-Django\\ml\\car_price_model.pkl\"\n",
    "encoder_path = r\"D:\\CarDealerWeb-Django\\CarDealerWeb-Django\\ml\\car_encoder.pkl\"\n",
    "\n",
    "model = joblib.load(model_path)\n",
    "encoder = joblib.load(encoder_path)\n"
   ]
  },
  {
   "cell_type": "code",
   "execution_count": null,
   "id": "f8685cc0-f80d-4d04-b04d-1e467b60eebd",
   "metadata": {},
   "outputs": [],
   "source": [
    "import pandas as pd\n",
    "import numpy as np\n",
    "\n",
    "# Sample input to test model and encoder\n",
    "sample_input = {\n",
    "    'Engine Fuel Type': 'Petrol',\n",
    "    'Transmission Type': 'Automatic',\n",
    "    'Driven_Wheels': 'front wheel drive',\n",
    "    'Vehicle Size': 'Midsize',\n",
    "    'Vehicle Style': 'Sedan',\n",
    "    'Year': 2020,\n",
    "    'Engine HP': 158.0,\n",
    "    'Engine Cylinders': 1.0,\n",
    "    'city mpg': 25,\n",
    "    'highway MPG': 25,\n",
    "}\n",
    "\n",
    "df_test = pd.DataFrame([sample_input])\n",
    "\n",
    "# Transform the input\n",
    "encoded = encoder.transform(df_test)\n",
    "\n",
    "# Predict log price\n",
    "log_price = model.predict(encoded)\n",
    "\n",
    "# Convert to original price scale\n",
    "predicted_price = int(np.expm1(log_price)[0])\n",
    "\n",
    "print(\"✅ Predicted Price:\", predicted_price)\n"
   ]
  },
  {
   "cell_type": "code",
   "execution_count": null,
   "id": "0be5cde6-7cd2-4cf1-b92c-b9030e0e4777",
   "metadata": {},
   "outputs": [],
   "source": []
  },
  {
   "cell_type": "code",
   "execution_count": null,
   "id": "2b70f897-4b20-4927-a905-451f2c2fe7da",
   "metadata": {},
   "outputs": [],
   "source": []
  },
  {
   "cell_type": "code",
   "execution_count": null,
   "id": "92184728-2115-4684-948d-7e87ddf7ba9e",
   "metadata": {},
   "outputs": [],
   "source": []
  }
 ],
 "metadata": {
  "kernelspec": {
   "display_name": "Python 3 (ipykernel)",
   "language": "python",
   "name": "python3"
  },
  "language_info": {
   "codemirror_mode": {
    "name": "ipython",
    "version": 3
   },
   "file_extension": ".py",
   "mimetype": "text/x-python",
   "name": "python",
   "nbconvert_exporter": "python",
   "pygments_lexer": "ipython3",
   "version": "3.12.0"
  }
 },
 "nbformat": 4,
 "nbformat_minor": 5
}
