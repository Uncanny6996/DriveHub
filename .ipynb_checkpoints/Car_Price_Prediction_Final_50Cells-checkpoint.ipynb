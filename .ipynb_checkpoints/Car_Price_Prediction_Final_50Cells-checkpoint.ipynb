{
 "cells": [
  {
   "cell_type": "code",
   "execution_count": null,
   "id": "485ca443",
   "metadata": {},
   "outputs": [],
   "source": [
    "import pandas as pd \n",
    "import seaborn as sns\n",
    "import matplotlib.pyplot as plt\n",
    "import numpy as np\n",
    "from sklearn.preprocessing import OneHotEncoder, StandardScaler, MinMaxScaler \n",
    "from sklearn.model_selection import GridSearchCV, train_test_split, KFold, cross_val_score\n",
    "from sklearn.linear_model import LinearRegression\n",
    "from sklearn.metrics import r2_score, mean_squared_error, accuracy_score, mean_absolute_error, mean_squared_error\n",
    "from sklearn.ensemble import GradientBoostingRegressor\n",
    "from sklearn.neural_network import MLPRegressor\n",
    "from sklearn.svm import SVR\n",
    "from sklearn.neighbors import KNeighborsRegressor\n",
    "from sklearn.cross_decomposition import PLSRegression\n",
    "from sklearn.tree import DecisionTreeRegressor\n",
    "import missingno as msno\n",
    "from sklearn.utils import shuffle \n",
    "from category_encoders import TargetEncoder, OneHotEncoder\n",
    "import warnings\n",
    "warnings.filterwarnings(\"ignore\")\n",
    "sns.set(rc = {'figure.figsize': (20, 20)})\n",
    "%matplotlib inline "
   ]
  },
  {
   "cell_type": "code",
   "execution_count": null,
   "id": "0cc7d3bb",
   "metadata": {},
   "outputs": [],
   "source": [
    "data = pd.read_csv('data/data.csv')"
   ]
  },
  {
   "cell_type": "code",
   "execution_count": null,
   "id": "10f1e04c",
   "metadata": {},
   "outputs": [],
   "source": [
    "data.shape"
   ]
  },
  {
   "cell_type": "code",
   "execution_count": null,
   "id": "cf2dee18",
   "metadata": {},
   "outputs": [],
   "source": [
    "data.head()"
   ]
  },
  {
   "cell_type": "code",
   "execution_count": null,
   "id": "f26d7d9f",
   "metadata": {},
   "outputs": [],
   "source": [
    "plt.figure(figsize = (20, 15))\n",
    "sns.countplot(y = data.Make)\n",
    "plt.title(\"Car companies with their cars\", fontsize = 20)\n",
    "plt.show()"
   ]
  },
  {
   "cell_type": "code",
   "execution_count": null,
   "id": "515193ad",
   "metadata": {},
   "outputs": [],
   "source": [
    "plt.figure(figsize = (20, 15))\n",
    "sns.countplot(data.Year, palette = 'viridis')\n",
    "plt.title(\"Number of cars in different years\", fontsize = 20)\n",
    "plt.show()"
   ]
  },
  {
   "cell_type": "code",
   "execution_count": null,
   "id": "f5388c16",
   "metadata": {},
   "outputs": [],
   "source": [
    "plt.figure(figsize = (10, 10))\n",
    "sns.countplot(data['Transmission Type'], palette = 'Paired')\n",
    "plt.title(\"Transmission Type\", fontsize = 20)\n",
    "plt.show()"
   ]
  },
  {
   "cell_type": "code",
   "execution_count": null,
   "id": "1cdca857",
   "metadata": {},
   "outputs": [],
   "source": [
    "data.nunique()"
   ]
  },
  {
   "cell_type": "code",
   "execution_count": null,
   "id": "5c15b231",
   "metadata": {},
   "outputs": [],
   "source": [
    "data.head()"
   ]
  },
  {
   "cell_type": "code",
   "execution_count": null,
   "id": "33934bbd",
   "metadata": {},
   "outputs": [],
   "source": [
    "plt.figure(figsize = (15, 10))\n",
    "sns.countplot(y = data['Engine Fuel Type'].sort_values(ascending = False), palette = 'Dark2')"
   ]
  },
  {
   "cell_type": "code",
   "execution_count": null,
   "id": "81a04c64",
   "metadata": {},
   "outputs": [],
   "source": [
    "plt.figure(figsize = (10, 10))\n",
    "sns.countplot(x = 'Vehicle Size', data = data, palette = 'Set1')"
   ]
  },
  {
   "cell_type": "code",
   "execution_count": null,
   "id": "781d0033",
   "metadata": {},
   "outputs": [],
   "source": [
    "msno.matrix(data, color = (0.5, 0.5, 0.5))"
   ]
  },
  {
   "cell_type": "code",
   "execution_count": null,
   "id": "fbe67c73",
   "metadata": {},
   "outputs": [],
   "source": [
    "data.groupby('Make')[['Engine HP', 'Engine Cylinders', 'highway MPG', 'city mpg']].agg(['min', 'max', 'mean'])"
   ]
  },
  {
   "cell_type": "code",
   "execution_count": null,
   "id": "a64b5074",
   "metadata": {},
   "outputs": [],
   "source": [
    "plt.figure(figsize = (20, 10))\n",
    "data.groupby('Year')['MSRP'].mean().plot(kind = 'bar', color = 'g')\n",
    "plt.title(\"The Average Price of cars in different years\", fontsize = 20)\n",
    "plt.show()\n"
   ]
  },
  {
   "cell_type": "code",
   "execution_count": null,
   "id": "e6f1d5a5",
   "metadata": {},
   "outputs": [],
   "source": [
    "plt.figure(figsize = (10, 10))\n",
    "data.groupby('Transmission Type')['MSRP'].mean().plot(kind = 'bar', color = 'y')\n",
    "plt.title(\"The Average Price of cars in different tranmission types\", fontsize = 20)\n",
    "plt.show()\n"
   ]
  },
  {
   "cell_type": "code",
   "execution_count": null,
   "id": "92f9116d",
   "metadata": {},
   "outputs": [],
   "source": [
    "plt.figure(figsize = (20, 15))\n",
    "data.groupby(['Make']).mean()['MSRP'].sort_values(ascending = False).plot(kind = 'bar', fontsize = 15, color = 'black')\n",
    "plt.title(\"The average price of cars of different companies\", fontsize = 20)\n",
    "plt.show()\n"
   ]
  },
  {
   "cell_type": "code",
   "execution_count": null,
   "id": "254ced53",
   "metadata": {},
   "outputs": [],
   "source": [
    "plt.figure(figsize = (20, 20))\n",
    "data.groupby('Make').median()['Engine HP'].plot(kind = 'barh', fontsize = 15, color = 'brown')"
   ]
  },
  {
   "cell_type": "code",
   "execution_count": null,
   "id": "79d536dc",
   "metadata": {},
   "outputs": [],
   "source": [
    "plt.figure(figsize = (15, 5))\n",
    "data.groupby('Driven_Wheels').mean()['MSRP'].plot(kind = 'barh', color = 'olivedrab')\n",
    "plt.title(\"The average cost of cars based on the driven wheels\", fontsize= 20)\n",
    "plt.show()"
   ]
  },
  {
   "cell_type": "code",
   "execution_count": null,
   "id": "c679f28c",
   "metadata": {},
   "outputs": [],
   "source": [
    "plt.figure(figsize = (15, 15))\n",
    "data.groupby('Make').mean()['Popularity'].sort_values(ascending = True).plot(kind = 'barh', color = 'orange')\n",
    "plt.yticks(fontsize = 10)\n",
    "plt.title(\"Popularity of various car brands\", fontsize = 15)\n",
    "plt.show()"
   ]
  },
  {
   "cell_type": "code",
   "execution_count": null,
   "id": "d1b67df8",
   "metadata": {},
   "outputs": [],
   "source": [
    "sns.scatterplot(x = 'highway MPG', y = 'city mpg', data = data, color = 'r')\n",
    "plt.title(\"Scatterplot between highway MPG and city mpg\")\n",
    "plt.show()"
   ]
  },
  {
   "cell_type": "code",
   "execution_count": null,
   "id": "9c6a6600",
   "metadata": {},
   "outputs": [],
   "source": [
    "data[data['highway MPG'] > 350]"
   ]
  },
  {
   "cell_type": "code",
   "execution_count": null,
   "id": "251a9bba",
   "metadata": {},
   "outputs": [],
   "source": [
    "data = data[data['highway MPG'] < 350]"
   ]
  },
  {
   "cell_type": "code",
   "execution_count": null,
   "id": "48a664fc",
   "metadata": {},
   "outputs": [],
   "source": [
    "sns.scatterplot(x = 'highway MPG', y ='city mpg', data = data, color = 'salmon')\n",
    "plt.title(\"Scatterplot between highway MPG and city mpg\")\n",
    "plt.show()"
   ]
  },
  {
   "cell_type": "code",
   "execution_count": null,
   "id": "8f3902bd",
   "metadata": {},
   "outputs": [],
   "source": [
    "data['Market Category'].unique()"
   ]
  },
  {
   "cell_type": "code",
   "execution_count": null,
   "id": "e0d7f4b9",
   "metadata": {},
   "outputs": [],
   "source": [
    "sns.boxplot(x = 'highway MPG', data = data, color = 'red')"
   ]
  },
  {
   "cell_type": "code",
   "execution_count": null,
   "id": "0c644e07",
   "metadata": {},
   "outputs": [],
   "source": [
    "for i in range(90, 100):\n",
    "    print(\"The {:.1f}th percentile value is {:.2f}\".format(i, np.percentile(data['highway MPG'], i)))"
   ]
  },
  {
   "cell_type": "code",
   "execution_count": null,
   "id": "b183d3ff",
   "metadata": {},
   "outputs": [],
   "source": [
    "for i in [x * 0.1 for x in range(990, 1000)]:\n",
    "    print(\"The {:.1f}th percentile value is {:.2f}\".format(i, np.percentile(data['highway MPG'], i)))"
   ]
  },
  {
   "cell_type": "code",
   "execution_count": null,
   "id": "02e1d125",
   "metadata": {},
   "outputs": [],
   "source": [
    "data = data[data['highway MPG'] < 60]"
   ]
  },
  {
   "cell_type": "code",
   "execution_count": null,
   "id": "f2ed49b0",
   "metadata": {},
   "outputs": [],
   "source": [
    "sns.boxplot(x = 'highway MPG', data = data, color = 'skyblue')"
   ]
  },
  {
   "cell_type": "code",
   "execution_count": null,
   "id": "7392b6af",
   "metadata": {},
   "outputs": [],
   "source": [
    "sns.boxplot(x = 'city mpg', data = data)"
   ]
  },
  {
   "cell_type": "code",
   "execution_count": null,
   "id": "049a25e2",
   "metadata": {},
   "outputs": [],
   "source": [
    "for i in range(90, 100):\n",
    "    print(\"The {:.1f}th percentile value is {:.2f}\".format(i, np.percentile(data['city mpg'], i)))"
   ]
  },
  {
   "cell_type": "code",
   "execution_count": null,
   "id": "370a6871",
   "metadata": {},
   "outputs": [],
   "source": [
    "for i in [x * 0.1 for x in range(990, 1000)]:\n",
    "    print(\"The {:.1f}th percentile value is {:.2f}\".format(i, np.percentile(data['city mpg'], i)))"
   ]
  },
  {
   "cell_type": "code",
   "execution_count": null,
   "id": "6a101088",
   "metadata": {},
   "outputs": [],
   "source": [
    "data = data[data['city mpg'] < 40]"
   ]
  },
  {
   "cell_type": "code",
   "execution_count": null,
   "id": "1dcfa54b",
   "metadata": {},
   "outputs": [],
   "source": [
    "sns.boxplot(x = 'city mpg', data= data, color = 'darkgreen')"
   ]
  },
  {
   "cell_type": "code",
   "execution_count": null,
   "id": "86b44b03",
   "metadata": {},
   "outputs": [],
   "source": [
    "plt.figure(figsize = (20, 10))\n",
    "sns.boxplot(data = data[['city mpg', 'highway MPG']], palette = 'Accent')\n",
    "plt.title(\"Boxplot of city mpg and highway MPG\", fontsize = 15)\n",
    "plt.show()"
   ]
  },
  {
   "cell_type": "code",
   "execution_count": null,
   "id": "116223bf",
   "metadata": {},
   "outputs": [],
   "source": [
    "plt.figure(figsize = (20, 10))\n",
    "sns.boxplot(data['Engine HP'])"
   ]
  },
  {
   "cell_type": "code",
   "execution_count": null,
   "id": "4ef4b4a9",
   "metadata": {},
   "outputs": [],
   "source": [
    "sns.set(rc = {'figure.figsize': (20, 20)})\n",
    "sns.lmplot(x = 'Engine HP', y = 'Popularity', data = data)"
   ]
  },
  {
   "cell_type": "code",
   "execution_count": null,
   "id": "c5c21245",
   "metadata": {},
   "outputs": [],
   "source": [
    "sns.lmplot(x = 'Engine Cylinders', y = 'Popularity', data = data)\n",
    "plt.title(\"Engine Cylinders vs Popularity\", fontsize = 15)\n",
    "plt.show()"
   ]
  },
  {
   "cell_type": "code",
   "execution_count": null,
   "id": "6388652f",
   "metadata": {},
   "outputs": [],
   "source": [
    "sns.lmplot(x = 'Number of Doors', y = 'Popularity', data = data)\n",
    "plt.title(\"Number of doors vs Popularity\", fontsize = 15)\n",
    "plt.show()"
   ]
  },
  {
   "cell_type": "code",
   "execution_count": null,
   "id": "e1ebe8ee",
   "metadata": {},
   "outputs": [],
   "source": [
    "sns.lmplot(x = 'Engine Cylinders', y = 'Engine HP', scatter_kws = {\"s\": 40, \"alpha\": 0.2}, data = data)\n",
    "plt.title(\"Engine Cylinders vs Engine HP\", fontsize = 15)\n",
    "plt.show()"
   ]
  },
  {
   "cell_type": "code",
   "execution_count": null,
   "id": "cf0d53b4",
   "metadata": {},
   "outputs": [],
   "source": [
    "sns.lmplot(x = 'city mpg', y = 'highway MPG', data = data)\n",
    "plt.title(\"city mpg vs highway MPG\", fontsize = 15)\n",
    "plt.show()"
   ]
  },
  {
   "cell_type": "code",
   "execution_count": null,
   "id": "f774c5d1",
   "metadata": {},
   "outputs": [],
   "source": [
    "sns.lmplot(x = 'city mpg', y = 'Engine Cylinders', data = data)\n",
    "plt.title(\"city mpg vs Engine Cylinders\", fontsize = 15)\n",
    "plt.show()"
   ]
  },
  {
   "cell_type": "code",
   "execution_count": null,
   "id": "66d365ac",
   "metadata": {},
   "outputs": [],
   "source": [
    "plt.figure(figsize = (15, 15))\n",
    "numeric_columns = ['Engine HP', 'Engine Cylinders', 'Number of Doors', 'highway MPG', 'city mpg', 'Popularity']\n",
    "heatmap_data = data[numeric_columns].corr()\n",
    "\n",
    "sns.heatmap(heatmap_data, cmap = 'BuPu', annot = True)"
   ]
  },
  {
   "cell_type": "code",
   "execution_count": null,
   "id": "528355f8",
   "metadata": {},
   "outputs": [],
   "source": [
    "plt.figure(figsize = (20, 10))\n",
    "data.groupby('Year').mean()['highway MPG'].sort_values(ascending = False).plot(kind = 'bar', color = 'darkseagreen')\n",
    "plt.title(\"Average highway mpg for different years\", fontsize = 15)\n",
    "plt.show()"
   ]
  },
  {
   "cell_type": "code",
   "execution_count": null,
   "id": "0950133d",
   "metadata": {},
   "outputs": [],
   "source": [
    "data.isnull().sum()"
   ]
  },
  {
   "cell_type": "code",
   "execution_count": null,
   "id": "947a3df0",
   "metadata": {},
   "outputs": [],
   "source": [
    "data['Number of Doors'].median()"
   ]
  },
  {
   "cell_type": "code",
   "execution_count": null,
   "id": "740d8d9d",
   "metadata": {},
   "outputs": [],
   "source": [
    "data['Number of Doors'].fillna(4.0, inplace = True)"
   ]
  },
  {
   "cell_type": "code",
   "execution_count": null,
   "id": "1e13493a",
   "metadata": {},
   "outputs": [],
   "source": [
    "data['Number of Doors'].isnull().sum()"
   ]
  },
  {
   "cell_type": "code",
   "execution_count": null,
   "id": "791a5bfd",
   "metadata": {},
   "outputs": [],
   "source": [
    "data['Present Year'] = 2021"
   ]
  },
  {
   "cell_type": "code",
   "execution_count": null,
   "id": "b11c9dad",
   "metadata": {},
   "outputs": [],
   "source": [
    "data.head()"
   ]
  },
  {
   "cell_type": "code",
   "execution_count": null,
   "id": "5835c106",
   "metadata": {},
   "outputs": [],
   "source": [
    "X_train.head()"
   ]
  },
  {
   "cell_type": "code",
   "execution_count": null,
   "id": "07366b47",
   "metadata": {},
   "outputs": [],
   "source": [
    "encoder = TargetEncoder(cols = 'Make')\n",
    "encoder.fit(X_train['Make'], y_train.to_frame()['MSRP'])\n",
    "X_train['Make'] = encoder.transform(X_train['Make'])\n",
    "X_test['Make'] = encoder.transform(X_test['Make'])"
   ]
  },
  {
   "cell_type": "code",
   "execution_count": null,
   "id": "b6ef52eb",
   "metadata": {},
   "outputs": [],
   "source": [
    "X_train[\"Engine Fuel Type\"].unique()"
   ]
  },
  {
   "cell_type": "code",
   "execution_count": null,
   "id": "3228339c",
   "metadata": {},
   "outputs": [],
   "source": [
    "X_train.head()"
   ]
  },
  {
   "cell_type": "code",
   "execution_count": null,
   "id": "505890b8",
   "metadata": {},
   "outputs": [],
   "source": [
    "encoder = OneHotEncoder()\n",
    "encoder.fit(X_train[['Engine Fuel Type', 'Transmission Type', 'Driven_Wheels', 'Vehicle Size', 'Vehicle Style']])\n",
    "one_hot_encoded_output_train = encoder.transform(X_train[['Engine Fuel Type', 'Transmission Type', 'Driven_Wheels', 'Vehicle Size', 'Vehicle Style']])\n",
    "one_hot_encoded_output_test = encoder.transform(X_test[['Engine Fuel Type', 'Transmission Type', 'Driven_Wheels', 'Vehicle Size', 'Vehicle Style']])"
   ]
  },
  {
   "cell_type": "code",
   "execution_count": null,
   "id": "45d50681",
   "metadata": {},
   "outputs": [],
   "source": [
    "X_train = pd.concat([X_train, one_hot_encoded_output_train], axis = 1)\n",
    "X_test = pd.concat([X_test, one_hot_encoded_output_test], axis = 1)"
   ]
  },
  {
   "cell_type": "code",
   "execution_count": null,
   "id": "e760f407",
   "metadata": {},
   "outputs": [],
   "source": [
    "X_train.drop(['Engine Fuel Type', 'Transmission Type', 'Driven_Wheels', 'Vehicle Size', 'Vehicle Style'], axis = 1, inplace = True)\n",
    "X_test.drop(['Engine Fuel Type', 'Transmission Type', 'Driven_Wheels', 'Vehicle Size', 'Vehicle Style'], axis = 1, inplace = True)"
   ]
  },
  {
   "cell_type": "code",
   "execution_count": null,
   "id": "b302ccb6",
   "metadata": {},
   "outputs": [],
   "source": [
    "X_train.info()"
   ]
  },
  {
   "cell_type": "code",
   "execution_count": null,
   "id": "82cd50b6",
   "metadata": {},
   "outputs": [],
   "source": [
    "scaler = MinMaxScaler()\n",
    "scaler.fit(X_train)\n",
    "X_train_new = scaler.transform(X_train)\n",
    "X_test_new = scaler.transform(X_test)"
   ]
  },
  {
   "cell_type": "code",
   "execution_count": null,
   "id": "4ac99261",
   "metadata": {},
   "outputs": [],
   "source": [
    "X_train_new.shape"
   ]
  },
  {
   "cell_type": "code",
   "execution_count": null,
   "id": "9fe8af14",
   "metadata": {},
   "outputs": [],
   "source": [
    "error_mean_square = []\n",
    "error_mean_absolute = []"
   ]
  },
  {
   "cell_type": "code",
   "execution_count": null,
   "id": "d7d04d45",
   "metadata": {},
   "outputs": [],
   "source": [
    "model = LinearRegression()\n",
    "model.fit(X_train_new, y_train)"
   ]
  },
  {
   "cell_type": "code",
   "execution_count": null,
   "id": "44548711",
   "metadata": {},
   "outputs": [],
   "source": [
    "y_predict = model.predict(X_test_new)"
   ]
  },
  {
   "cell_type": "code",
   "execution_count": null,
   "id": "d523b26d",
   "metadata": {},
   "outputs": [],
   "source": [
    "error_mean_square.append(int(mean_squared_error(y_predict, y_test)))\n",
    "error_mean_absolute.append(int(mean_absolute_error(y_predict, y_test)))"
   ]
  },
  {
   "cell_type": "code",
   "execution_count": null,
   "id": "9de9ccd2",
   "metadata": {},
   "outputs": [],
   "source": [
    "error_mean_absolute"
   ]
  },
  {
   "cell_type": "code",
   "execution_count": null,
   "id": "f1fec562",
   "metadata": {},
   "outputs": [],
   "source": [
    "y_predict = pd.DataFrame(y_predict, columns = ['Predicted Output'])"
   ]
  },
  {
   "cell_type": "code",
   "execution_count": null,
   "id": "1897ebc8",
   "metadata": {},
   "outputs": [],
   "source": [
    "y_predict.head()"
   ]
  },
  {
   "cell_type": "code",
   "execution_count": null,
   "id": "2edeadff",
   "metadata": {},
   "outputs": [],
   "source": [
    "y_test.to_frame().head()"
   ]
  },
  {
   "cell_type": "code",
   "execution_count": null,
   "id": "5225631e",
   "metadata": {},
   "outputs": [],
   "source": [
    "results = pd.concat([y_predict, y_test.to_frame().reset_index(drop = True)], axis = 1, ignore_index = False)"
   ]
  },
  {
   "cell_type": "code",
   "execution_count": null,
   "id": "3582e843",
   "metadata": {},
   "outputs": [],
   "source": [
    "results.head()"
   ]
  }
 ],
 "metadata": {
  "kernelspec": {
   "display_name": "Python 3 (ipykernel)",
   "language": "python",
   "name": "python3"
  },
  "language_info": {
   "codemirror_mode": {
    "name": "ipython",
    "version": 3
   },
   "file_extension": ".py",
   "mimetype": "text/x-python",
   "name": "python",
   "nbconvert_exporter": "python",
   "pygments_lexer": "ipython3",
   "version": "3.12.0"
  }
 },
 "nbformat": 4,
 "nbformat_minor": 5
}
